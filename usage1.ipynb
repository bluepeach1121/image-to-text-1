{
 "cells": [
  {
   "cell_type": "code",
   "execution_count": 4,
   "metadata": {},
   "outputs": [
    {
     "name": "stderr",
     "output_type": "stream",
     "text": [
      "C:\\Users\\olawa\\AppData\\Local\\Temp\\ipykernel_27584\\2939952935.py:24: FutureWarning: You are using `torch.load` with `weights_only=False` (the current default value), which uses the default pickle module implicitly. It is possible to construct malicious pickle data which will execute arbitrary code during unpickling (See https://github.com/pytorch/pytorch/blob/main/SECURITY.md#untrusted-models for more details). In a future release, the default value for `weights_only` will be flipped to `True`. This limits the functions that could be executed during unpickling. Arbitrary objects will no longer be allowed to be loaded via this mode unless they are explicitly allowlisted by the user via `torch.serialization.add_safe_globals`. We recommend you start setting `weights_only=True` for any use case where you don't have full control of the loaded file. Please open an issue on GitHub for any issues related to this experimental feature.\n",
      "  encoder.load_state_dict(torch.load(\"encoder.pth\", map_location=device))\n",
      "C:\\Users\\olawa\\AppData\\Local\\Temp\\ipykernel_27584\\2939952935.py:25: FutureWarning: You are using `torch.load` with `weights_only=False` (the current default value), which uses the default pickle module implicitly. It is possible to construct malicious pickle data which will execute arbitrary code during unpickling (See https://github.com/pytorch/pytorch/blob/main/SECURITY.md#untrusted-models for more details). In a future release, the default value for `weights_only` will be flipped to `True`. This limits the functions that could be executed during unpickling. Arbitrary objects will no longer be allowed to be loaded via this mode unless they are explicitly allowlisted by the user via `torch.serialization.add_safe_globals`. We recommend you start setting `weights_only=True` for any use case where you don't have full control of the loaded file. Please open an issue on GitHub for any issues related to this experimental feature.\n",
      "  decoder.load_state_dict(torch.load(\"decoder.pth\", map_location=device))\n"
     ]
    },
    {
     "name": "stdout",
     "output_type": "stream",
     "text": [
      "Models loaded successfully.\n",
      "DEBUG: encoder output shape = torch.Size([1, 256])\n",
      "DEBUG: initial current_input shape = torch.Size([1, 1])\n",
      "DEBUG: Step 0: word_embed shape = torch.Size([1, 1, 256])\n",
      "DEBUG: Step 1: word_embed shape = torch.Size([1, 1, 256])\n",
      "DEBUG: Step 2: word_embed shape = torch.Size([1, 1, 256])\n",
      "DEBUG: Step 3: word_embed shape = torch.Size([1, 1, 256])\n",
      "DEBUG: Step 4: word_embed shape = torch.Size([1, 1, 256])\n",
      "DEBUG: Step 5: word_embed shape = torch.Size([1, 1, 256])\n",
      "DEBUG: Step 6: word_embed shape = torch.Size([1, 1, 256])\n",
      "DEBUG: Step 7: word_embed shape = torch.Size([1, 1, 256])\n",
      "DEBUG: Step 8: word_embed shape = torch.Size([1, 1, 256])\n",
      "Generated Caption: a man of a a a a a\n"
     ]
    }
   ],
   "source": [
    "# usage.py\n",
    "\n",
    "import torch\n",
    "import pickle\n",
    "from torchvision import transforms\n",
    "from model import CNNEncoder, LSTMDecoder\n",
    "from outputgeneration import generate_caption\n",
    "\n",
    "def main():\n",
    "    device = torch.device('cuda' if torch.cuda.is_available() else 'cpu')\n",
    "    \n",
    "    # 1) Load vocab\n",
    "    with open(\"vocab.pkl\", \"rb\") as f:\n",
    "        word2idx, idx2word = pickle.load(f)\n",
    "    vocab_size = len(word2idx)\n",
    "    \n",
    "    # 2) Re-create model architecture (must match training)\n",
    "    embed_size = 256\n",
    "    hidden_size = 512\n",
    "    encoder = CNNEncoder(embed_size=embed_size).to(device)\n",
    "    decoder = LSTMDecoder(embed_size=embed_size, hidden_size=hidden_size, vocab_size=vocab_size).to(device)\n",
    "    \n",
    "    # 3) Load the saved state dicts\n",
    "    encoder.load_state_dict(torch.load(\"encoder.pth\", map_location=device))\n",
    "    decoder.load_state_dict(torch.load(\"decoder.pth\", map_location=device))\n",
    "    print(\"Models loaded successfully.\")\n",
    "    \n",
    "    # 4) Define transforms (same as training)\n",
    "    transform = transforms.Compose([\n",
    "        transforms.Resize((224, 224)),\n",
    "        transforms.ToTensor(),\n",
    "        transforms.Normalize(mean=[0.485, 0.456, 0.406],\n",
    "                             std=[0.229, 0.224, 0.225]),\n",
    "    ])\n",
    "    \n",
    "    # 5) Path to test image\n",
    "    image_path = r\"C:\\Users\\olawa\\Downloads\\Asa.jpg\"\n",
    "    \n",
    "    # 6) Generate caption\n",
    "    caption = generate_caption(\n",
    "        encoder=encoder,\n",
    "        decoder=decoder,\n",
    "        image_path=image_path,\n",
    "        transform=transform,\n",
    "        device=device,\n",
    "        word2idx=word2idx,\n",
    "        idx2word=idx2word,\n",
    "        max_length=20\n",
    "    )\n",
    "    \n",
    "    print(\"Generated Caption:\", caption)\n",
    "\n",
    "if __name__ == \"__main__\":\n",
    "    main()\n"
   ]
  }
 ],
 "metadata": {
  "kernelspec": {
   "display_name": "base",
   "language": "python",
   "name": "python3"
  },
  "language_info": {
   "codemirror_mode": {
    "name": "ipython",
    "version": 3
   },
   "file_extension": ".py",
   "mimetype": "text/x-python",
   "name": "python",
   "nbconvert_exporter": "python",
   "pygments_lexer": "ipython3",
   "version": "3.12.3"
  }
 },
 "nbformat": 4,
 "nbformat_minor": 2
}
